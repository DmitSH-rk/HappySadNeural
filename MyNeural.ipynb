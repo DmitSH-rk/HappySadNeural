{
  "nbformat": 4,
  "nbformat_minor": 0,
  "metadata": {
    "colab": {
      "provenance": [],
      "authorship_tag": "ABX9TyP1A9RT/fsNpFIEHrwuinot",
      "include_colab_link": true
    },
    "kernelspec": {
      "name": "python3",
      "display_name": "Python 3"
    },
    "language_info": {
      "name": "python"
    }
  },
  "cells": [
    {
      "cell_type": "markdown",
      "metadata": {
        "id": "view-in-github",
        "colab_type": "text"
      },
      "source": [
        "<a href=\"https://colab.research.google.com/github/DmitSH-rk/HappySadNeural/blob/main/MyNeural.ipynb\" target=\"_parent\"><img src=\"https://colab.research.google.com/assets/colab-badge.svg\" alt=\"Open In Colab\"/></a>"
      ]
    },
    {
      "cell_type": "code",
      "execution_count": 33,
      "metadata": {
        "id": "sY8VGON7psow"
      },
      "outputs": [],
      "source": [
        "import tensorflow as tf\n",
        "from tensorflow.keras.preprocessing.image import ImageDataGenerator\n",
        "from tensorflow.keras.optimizers import RMSprop\n",
        "import os"
      ]
    },
    {
      "cell_type": "code",
      "source": [
        "train_dir_happy = '/content/dataset/train/happytest'\n",
        "train_dir_sad = '/content/dataset/train/sadtest'\n",
        "validation_dir_happy = '/content/dataset/validation/happyval'\n",
        "validation_dir_sad = '/content/dataset/validation/sadval'\n"
      ],
      "metadata": {
        "id": "T8YPdHyVvCaE"
      },
      "execution_count": 27,
      "outputs": []
    },
    {
      "cell_type": "code",
      "source": [
        "train_dir = '/content/dataset/train'\n",
        "validation_dir = '/content/dataset/validation'"
      ],
      "metadata": {
        "id": "kfwHNkE7wiaE"
      },
      "execution_count": 28,
      "outputs": []
    },
    {
      "cell_type": "code",
      "source": [
        "train_datagen = ImageDataGenerator(rescale=1./255,\n",
        "    rotation_range=40,\n",
        "    width_shift_range=0.2,\n",
        "    height_shift_range=0.2,\n",
        "    shear_range=0.2,\n",
        "    zoom_range=0.2,\n",
        "    horizontal_flip=True,\n",
        "    fill_mode='nearest')\n",
        "validation_datagen = ImageDataGenerator(rescale=1./255)"
      ],
      "metadata": {
        "id": "6DFssdttwnF7"
      },
      "execution_count": 47,
      "outputs": []
    },
    {
      "cell_type": "code",
      "source": [
        "train_generator = train_datagen.flow_from_directory(\n",
        "    train_dir,\n",
        "    target_size=(150, 150),\n",
        "    batch_size=20,\n",
        "    class_mode='binary'\n",
        ")\n",
        "\n",
        "validation_generator = validation_datagen.flow_from_directory(\n",
        "    validation_dir,\n",
        "    target_size=(150, 150),\n",
        "    batch_size=20,\n",
        "    class_mode='binary'\n",
        ")"
      ],
      "metadata": {
        "colab": {
          "base_uri": "https://localhost:8080/"
        },
        "id": "twjPxtVpwsT9",
        "outputId": "78f9b981-1033-418f-d8f9-7ead82e854ee"
      },
      "execution_count": 48,
      "outputs": [
        {
          "output_type": "stream",
          "name": "stdout",
          "text": [
            "Found 20 images belonging to 2 classes.\n",
            "Found 8 images belonging to 3 classes.\n"
          ]
        }
      ]
    },
    {
      "cell_type": "code",
      "source": [
        "model = tf.keras.models.Sequential([\n",
        "      tf.keras.layers.Conv2D(32, (3,3), activation='relu', input_shape=(150, 150, 3)),\n",
        "      tf.keras.layers.MaxPooling2D(2,2),\n",
        "      tf.keras.layers.Conv2D(64, (3,3), activation='relu'),\n",
        "      tf.keras.layers.MaxPooling2D(2,2),\n",
        "      tf.keras.layers.Conv2D(128, (3,3), activation='relu'),\n",
        "      tf.keras.layers.MaxPooling2D(2,2),\n",
        "      tf.keras.layers.Conv2D(128, (3,3), activation='relu'),\n",
        "      tf.keras.layers.MaxPooling2D(2,2),\n",
        "      tf.keras.layers.Flatten(),\n",
        "      tf.keras.layers.Dense(512, activation='relu'),\n",
        "      tf.keras.layers.Dense(1, activation='sigmoid')\n",
        "    ])\n",
        "\n",
        "model.compile(optimizer=RMSprop(learning_rate=0.001),\n",
        "              loss='binary_crossentropy',\n",
        "              metrics = ['accuracy'])"
      ],
      "metadata": {
        "colab": {
          "base_uri": "https://localhost:8080/"
        },
        "id": "oqE5XiuD0FzN",
        "outputId": "b354e98f-4810-4e22-f7dc-1118bc131fd5"
      },
      "execution_count": 49,
      "outputs": [
        {
          "output_type": "stream",
          "name": "stderr",
          "text": [
            "/usr/local/lib/python3.10/dist-packages/keras/src/layers/convolutional/base_conv.py:107: UserWarning: Do not pass an `input_shape`/`input_dim` argument to a layer. When using Sequential models, prefer using an `Input(shape)` object as the first layer in the model instead.\n",
            "  super().__init__(activity_regularizer=activity_regularizer, **kwargs)\n"
          ]
        }
      ]
    },
    {
      "cell_type": "code",
      "source": [
        "model.fit(train_generator,\n",
        "        steps_per_epoch=100,\n",
        "        epochs=30,\n",
        "        validation_data=validation_generator,\n",
        "        validation_steps=50,\n",
        "        verbose=2)\n"
      ],
      "metadata": {
        "colab": {
          "base_uri": "https://localhost:8080/"
        },
        "id": "yVOU0XIw0ewi",
        "outputId": "535488fa-8a93-4e8d-8efe-45b9d705c9c5"
      },
      "execution_count": 50,
      "outputs": [
        {
          "output_type": "stream",
          "name": "stdout",
          "text": [
            "Epoch 1/30\n"
          ]
        },
        {
          "output_type": "stream",
          "name": "stderr",
          "text": [
            "/usr/local/lib/python3.10/dist-packages/keras/src/trainers/data_adapters/py_dataset_adapter.py:121: UserWarning: Your `PyDataset` class should call `super().__init__(**kwargs)` in its constructor. `**kwargs` can include `workers`, `use_multiprocessing`, `max_queue_size`. Do not pass these arguments to `fit()`, as they will be ignored.\n",
            "  self._warn_if_super_not_called()\n",
            "/usr/lib/python3.10/contextlib.py:153: UserWarning: Your input ran out of data; interrupting training. Make sure that your dataset or generator can generate at least `steps_per_epoch * epochs` batches. You may need to use the `.repeat()` function when building your dataset.\n",
            "  self.gen.throw(typ, value, traceback)\n"
          ]
        },
        {
          "output_type": "stream",
          "name": "stdout",
          "text": [
            "100/100 - 3s - 33ms/step - accuracy: 0.5000 - loss: 0.6943 - val_accuracy: 0.0000e+00 - val_loss: 2.9575\n",
            "Epoch 2/30\n",
            "100/100 - 2s - 21ms/step - accuracy: 0.5000 - loss: 1.0598 - val_accuracy: 0.5000 - val_loss: 0.1115\n",
            "Epoch 3/30\n",
            "100/100 - 2s - 19ms/step - accuracy: 0.5000 - loss: 0.7686 - val_accuracy: 0.0000e+00 - val_loss: 0.8099\n",
            "Epoch 4/30\n",
            "100/100 - 3s - 28ms/step - accuracy: 0.5000 - loss: 0.6915 - val_accuracy: 0.0000e+00 - val_loss: 0.8013\n",
            "Epoch 5/30\n",
            "100/100 - 3s - 28ms/step - accuracy: 0.5000 - loss: 0.6893 - val_accuracy: 0.0000e+00 - val_loss: 0.8054\n",
            "Epoch 6/30\n",
            "100/100 - 2s - 17ms/step - accuracy: 0.5000 - loss: 0.6873 - val_accuracy: 0.0000e+00 - val_loss: 0.8930\n",
            "Epoch 7/30\n",
            "100/100 - 2s - 24ms/step - accuracy: 0.5000 - loss: 0.6861 - val_accuracy: 0.5000 - val_loss: 0.6283\n",
            "Epoch 8/30\n",
            "100/100 - 1s - 15ms/step - accuracy: 0.5000 - loss: 0.6928 - val_accuracy: 0.0000e+00 - val_loss: 0.9632\n",
            "Epoch 9/30\n",
            "100/100 - 3s - 25ms/step - accuracy: 0.5000 - loss: 0.6866 - val_accuracy: 0.5000 - val_loss: 0.6550\n",
            "Epoch 10/30\n",
            "100/100 - 1s - 15ms/step - accuracy: 0.6000 - loss: 0.6881 - val_accuracy: 0.0000e+00 - val_loss: 0.7996\n",
            "Epoch 11/30\n",
            "100/100 - 3s - 34ms/step - accuracy: 0.5500 - loss: 0.6811 - val_accuracy: 0.0000e+00 - val_loss: 0.8470\n",
            "Epoch 12/30\n",
            "100/100 - 2s - 16ms/step - accuracy: 0.5500 - loss: 0.6678 - val_accuracy: 0.1250 - val_loss: 0.7110\n",
            "Epoch 13/30\n",
            "100/100 - 2s - 24ms/step - accuracy: 0.5000 - loss: 0.6627 - val_accuracy: 0.0000e+00 - val_loss: 2.4524\n",
            "Epoch 14/30\n",
            "100/100 - 1s - 15ms/step - accuracy: 0.5000 - loss: 0.8942 - val_accuracy: 0.5000 - val_loss: 0.3986\n",
            "Epoch 15/30\n",
            "100/100 - 2s - 15ms/step - accuracy: 0.5000 - loss: 0.7088 - val_accuracy: 0.2500 - val_loss: 0.6683\n",
            "Epoch 16/30\n",
            "100/100 - 2s - 15ms/step - accuracy: 0.5500 - loss: 0.6921 - val_accuracy: 0.0000e+00 - val_loss: 0.6862\n",
            "Epoch 17/30\n",
            "100/100 - 2s - 15ms/step - accuracy: 0.5500 - loss: 0.6903 - val_accuracy: 0.0000e+00 - val_loss: 0.6947\n",
            "Epoch 18/30\n",
            "100/100 - 3s - 26ms/step - accuracy: 0.6000 - loss: 0.6887 - val_accuracy: 0.0000e+00 - val_loss: 0.7435\n",
            "Epoch 19/30\n",
            "100/100 - 4s - 40ms/step - accuracy: 0.6000 - loss: 0.6835 - val_accuracy: 0.0000e+00 - val_loss: 0.7190\n",
            "Epoch 20/30\n",
            "100/100 - 3s - 25ms/step - accuracy: 0.6000 - loss: 0.6856 - val_accuracy: 0.0000e+00 - val_loss: 0.6685\n",
            "Epoch 21/30\n",
            "100/100 - 2s - 25ms/step - accuracy: 0.6500 - loss: 0.6788 - val_accuracy: 0.0000e+00 - val_loss: 0.8804\n",
            "Epoch 22/30\n",
            "100/100 - 4s - 35ms/step - accuracy: 0.6000 - loss: 0.6735 - val_accuracy: 0.5000 - val_loss: 0.1897\n",
            "Epoch 23/30\n",
            "100/100 - 2s - 20ms/step - accuracy: 0.5000 - loss: 0.7196 - val_accuracy: 0.0000e+00 - val_loss: 0.8553\n",
            "Epoch 24/30\n",
            "100/100 - 2s - 20ms/step - accuracy: 0.5500 - loss: 0.6766 - val_accuracy: 0.0000e+00 - val_loss: 0.8591\n",
            "Epoch 25/30\n",
            "100/100 - 3s - 25ms/step - accuracy: 0.5500 - loss: 0.6670 - val_accuracy: 0.0000e+00 - val_loss: 0.7931\n",
            "Epoch 26/30\n",
            "100/100 - 1s - 15ms/step - accuracy: 0.7500 - loss: 0.6502 - val_accuracy: 0.0000e+00 - val_loss: 2.4769\n",
            "Epoch 27/30\n",
            "100/100 - 1s - 15ms/step - accuracy: 0.5000 - loss: 0.8020 - val_accuracy: 0.5000 - val_loss: 0.4317\n",
            "Epoch 28/30\n",
            "100/100 - 3s - 31ms/step - accuracy: 0.5000 - loss: 0.6882 - val_accuracy: 0.5000 - val_loss: 0.4935\n",
            "Epoch 29/30\n",
            "100/100 - 3s - 26ms/step - accuracy: 0.5000 - loss: 0.6739 - val_accuracy: 0.5000 - val_loss: 0.4092\n",
            "Epoch 30/30\n",
            "100/100 - 1s - 15ms/step - accuracy: 0.5000 - loss: 0.6659 - val_accuracy: 0.5000 - val_loss: 0.4355\n"
          ]
        },
        {
          "output_type": "execute_result",
          "data": {
            "text/plain": [
              "<keras.src.callbacks.history.History at 0x7f600aa44f70>"
            ]
          },
          "metadata": {},
          "execution_count": 50
        }
      ]
    },
    {
      "cell_type": "code",
      "source": [
        "model.evaluate(validation_generator)"
      ],
      "metadata": {
        "colab": {
          "base_uri": "https://localhost:8080/"
        },
        "id": "vEaqKD0S0tfg",
        "outputId": "b13825a1-d03c-47f5-a37b-b2d5f52bdccc"
      },
      "execution_count": 51,
      "outputs": [
        {
          "output_type": "stream",
          "name": "stdout",
          "text": [
            "\u001b[1m1/1\u001b[0m \u001b[32m━━━━━━━━━━━━━━━━━━━━\u001b[0m\u001b[37m\u001b[0m \u001b[1m0s\u001b[0m 351ms/step - accuracy: 0.5000 - loss: 0.4355\n"
          ]
        },
        {
          "output_type": "execute_result",
          "data": {
            "text/plain": [
              "[0.43549588322639465, 0.5]"
            ]
          },
          "metadata": {},
          "execution_count": 51
        }
      ]
    },
    {
      "cell_type": "code",
      "source": [
        "import matplotlib.pyplot as plt\n",
        "\n",
        "def plot_loss_acc(history):\n",
        "  acc      = history.history['accuracy']\n",
        "  val_acc  = history.history['val_accuracy']\n",
        "  loss     = history.history['loss']\n",
        "  val_loss = history.history['val_loss']\n",
        "\n",
        "  epochs   = range(len(acc)) # Get number of epochs\n",
        "\n",
        "#------------------------------------------------\n",
        "# Plot training and validation accuracy per epoch\n",
        "#------------------------------------------------\n",
        "  plt.plot  ( epochs,     acc, 'bo', label='Training accuracy' )\n",
        "  plt.plot  ( epochs, val_acc, 'b', label='Validation accuracy' )\n",
        "  plt.title ('Training and validation accuracy')\n",
        "\n",
        "  plt.figure()\n",
        "\n",
        "#------------------------------------------------\n",
        "# Plot training and validation loss per epoch\n",
        "#------------------------------------------------\n",
        "  plt.plot  ( epochs,     loss, 'bo', label='Training loss' )\n",
        "  plt.plot  ( epochs, val_loss, 'b', label='Validation loss' )\n",
        "  plt.title ('Training and validation loss')\n",
        "  plt.legend()\n",
        "\n",
        "  plt.show()"
      ],
      "metadata": {
        "id": "O1Ji9Y-Q2hCr"
      },
      "execution_count": 56,
      "outputs": []
    },
    {
      "cell_type": "code",
      "source": [
        "plot_loss_acc(model.history)"
      ],
      "metadata": {
        "colab": {
          "base_uri": "https://localhost:8080/",
          "height": 263
        },
        "id": "91PpayTM2h5i",
        "outputId": "8fc44475-db9b-43f3-b8b0-fc4fc66eebfa"
      },
      "execution_count": 57,
      "outputs": [
        {
          "output_type": "error",
          "ename": "KeyError",
          "evalue": "'accuracy'",
          "traceback": [
            "\u001b[0;31m---------------------------------------------------------------------------\u001b[0m",
            "\u001b[0;31mKeyError\u001b[0m                                  Traceback (most recent call last)",
            "\u001b[0;32m<ipython-input-57-9c691c27a890>\u001b[0m in \u001b[0;36m<cell line: 1>\u001b[0;34m()\u001b[0m\n\u001b[0;32m----> 1\u001b[0;31m \u001b[0mplot_loss_acc\u001b[0m\u001b[0;34m(\u001b[0m\u001b[0mmodel\u001b[0m\u001b[0;34m.\u001b[0m\u001b[0mhistory\u001b[0m\u001b[0;34m)\u001b[0m\u001b[0;34m\u001b[0m\u001b[0;34m\u001b[0m\u001b[0m\n\u001b[0m",
            "\u001b[0;32m<ipython-input-56-4c89eba99937>\u001b[0m in \u001b[0;36mplot_loss_acc\u001b[0;34m(history)\u001b[0m\n\u001b[1;32m      2\u001b[0m \u001b[0;34m\u001b[0m\u001b[0m\n\u001b[1;32m      3\u001b[0m \u001b[0;32mdef\u001b[0m \u001b[0mplot_loss_acc\u001b[0m\u001b[0;34m(\u001b[0m\u001b[0mhistory\u001b[0m\u001b[0;34m)\u001b[0m\u001b[0;34m:\u001b[0m\u001b[0;34m\u001b[0m\u001b[0;34m\u001b[0m\u001b[0m\n\u001b[0;32m----> 4\u001b[0;31m   \u001b[0macc\u001b[0m      \u001b[0;34m=\u001b[0m \u001b[0mhistory\u001b[0m\u001b[0;34m.\u001b[0m\u001b[0mhistory\u001b[0m\u001b[0;34m[\u001b[0m\u001b[0;34m'accuracy'\u001b[0m\u001b[0;34m]\u001b[0m\u001b[0;34m\u001b[0m\u001b[0;34m\u001b[0m\u001b[0m\n\u001b[0m\u001b[1;32m      5\u001b[0m   \u001b[0mval_acc\u001b[0m  \u001b[0;34m=\u001b[0m \u001b[0mhistory\u001b[0m\u001b[0;34m.\u001b[0m\u001b[0mhistory\u001b[0m\u001b[0;34m[\u001b[0m\u001b[0;34m'val_accuracy'\u001b[0m\u001b[0;34m]\u001b[0m\u001b[0;34m\u001b[0m\u001b[0;34m\u001b[0m\u001b[0m\n\u001b[1;32m      6\u001b[0m   \u001b[0mloss\u001b[0m     \u001b[0;34m=\u001b[0m \u001b[0mhistory\u001b[0m\u001b[0;34m.\u001b[0m\u001b[0mhistory\u001b[0m\u001b[0;34m[\u001b[0m\u001b[0;34m'loss'\u001b[0m\u001b[0;34m]\u001b[0m\u001b[0;34m\u001b[0m\u001b[0;34m\u001b[0m\u001b[0m\n",
            "\u001b[0;31mKeyError\u001b[0m: 'accuracy'"
          ]
        }
      ]
    },
    {
      "cell_type": "code",
      "source": [
        "from google.colab import files\n",
        "uploaded = files.upload()"
      ],
      "metadata": {
        "colab": {
          "base_uri": "https://localhost:8080/",
          "height": 73
        },
        "id": "uGs_b5XA0y5B",
        "outputId": "46206b6d-3cb2-437e-9337-486913e5cb4e"
      },
      "execution_count": 44,
      "outputs": [
        {
          "output_type": "display_data",
          "data": {
            "text/plain": [
              "<IPython.core.display.HTML object>"
            ],
            "text/html": [
              "\n",
              "     <input type=\"file\" id=\"files-ded512ac-f77f-46b8-8632-992ded8b3562\" name=\"files[]\" multiple disabled\n",
              "        style=\"border:none\" />\n",
              "     <output id=\"result-ded512ac-f77f-46b8-8632-992ded8b3562\">\n",
              "      Upload widget is only available when the cell has been executed in the\n",
              "      current browser session. Please rerun this cell to enable.\n",
              "      </output>\n",
              "      <script>// Copyright 2017 Google LLC\n",
              "//\n",
              "// Licensed under the Apache License, Version 2.0 (the \"License\");\n",
              "// you may not use this file except in compliance with the License.\n",
              "// You may obtain a copy of the License at\n",
              "//\n",
              "//      http://www.apache.org/licenses/LICENSE-2.0\n",
              "//\n",
              "// Unless required by applicable law or agreed to in writing, software\n",
              "// distributed under the License is distributed on an \"AS IS\" BASIS,\n",
              "// WITHOUT WARRANTIES OR CONDITIONS OF ANY KIND, either express or implied.\n",
              "// See the License for the specific language governing permissions and\n",
              "// limitations under the License.\n",
              "\n",
              "/**\n",
              " * @fileoverview Helpers for google.colab Python module.\n",
              " */\n",
              "(function(scope) {\n",
              "function span(text, styleAttributes = {}) {\n",
              "  const element = document.createElement('span');\n",
              "  element.textContent = text;\n",
              "  for (const key of Object.keys(styleAttributes)) {\n",
              "    element.style[key] = styleAttributes[key];\n",
              "  }\n",
              "  return element;\n",
              "}\n",
              "\n",
              "// Max number of bytes which will be uploaded at a time.\n",
              "const MAX_PAYLOAD_SIZE = 100 * 1024;\n",
              "\n",
              "function _uploadFiles(inputId, outputId) {\n",
              "  const steps = uploadFilesStep(inputId, outputId);\n",
              "  const outputElement = document.getElementById(outputId);\n",
              "  // Cache steps on the outputElement to make it available for the next call\n",
              "  // to uploadFilesContinue from Python.\n",
              "  outputElement.steps = steps;\n",
              "\n",
              "  return _uploadFilesContinue(outputId);\n",
              "}\n",
              "\n",
              "// This is roughly an async generator (not supported in the browser yet),\n",
              "// where there are multiple asynchronous steps and the Python side is going\n",
              "// to poll for completion of each step.\n",
              "// This uses a Promise to block the python side on completion of each step,\n",
              "// then passes the result of the previous step as the input to the next step.\n",
              "function _uploadFilesContinue(outputId) {\n",
              "  const outputElement = document.getElementById(outputId);\n",
              "  const steps = outputElement.steps;\n",
              "\n",
              "  const next = steps.next(outputElement.lastPromiseValue);\n",
              "  return Promise.resolve(next.value.promise).then((value) => {\n",
              "    // Cache the last promise value to make it available to the next\n",
              "    // step of the generator.\n",
              "    outputElement.lastPromiseValue = value;\n",
              "    return next.value.response;\n",
              "  });\n",
              "}\n",
              "\n",
              "/**\n",
              " * Generator function which is called between each async step of the upload\n",
              " * process.\n",
              " * @param {string} inputId Element ID of the input file picker element.\n",
              " * @param {string} outputId Element ID of the output display.\n",
              " * @return {!Iterable<!Object>} Iterable of next steps.\n",
              " */\n",
              "function* uploadFilesStep(inputId, outputId) {\n",
              "  const inputElement = document.getElementById(inputId);\n",
              "  inputElement.disabled = false;\n",
              "\n",
              "  const outputElement = document.getElementById(outputId);\n",
              "  outputElement.innerHTML = '';\n",
              "\n",
              "  const pickedPromise = new Promise((resolve) => {\n",
              "    inputElement.addEventListener('change', (e) => {\n",
              "      resolve(e.target.files);\n",
              "    });\n",
              "  });\n",
              "\n",
              "  const cancel = document.createElement('button');\n",
              "  inputElement.parentElement.appendChild(cancel);\n",
              "  cancel.textContent = 'Cancel upload';\n",
              "  const cancelPromise = new Promise((resolve) => {\n",
              "    cancel.onclick = () => {\n",
              "      resolve(null);\n",
              "    };\n",
              "  });\n",
              "\n",
              "  // Wait for the user to pick the files.\n",
              "  const files = yield {\n",
              "    promise: Promise.race([pickedPromise, cancelPromise]),\n",
              "    response: {\n",
              "      action: 'starting',\n",
              "    }\n",
              "  };\n",
              "\n",
              "  cancel.remove();\n",
              "\n",
              "  // Disable the input element since further picks are not allowed.\n",
              "  inputElement.disabled = true;\n",
              "\n",
              "  if (!files) {\n",
              "    return {\n",
              "      response: {\n",
              "        action: 'complete',\n",
              "      }\n",
              "    };\n",
              "  }\n",
              "\n",
              "  for (const file of files) {\n",
              "    const li = document.createElement('li');\n",
              "    li.append(span(file.name, {fontWeight: 'bold'}));\n",
              "    li.append(span(\n",
              "        `(${file.type || 'n/a'}) - ${file.size} bytes, ` +\n",
              "        `last modified: ${\n",
              "            file.lastModifiedDate ? file.lastModifiedDate.toLocaleDateString() :\n",
              "                                    'n/a'} - `));\n",
              "    const percent = span('0% done');\n",
              "    li.appendChild(percent);\n",
              "\n",
              "    outputElement.appendChild(li);\n",
              "\n",
              "    const fileDataPromise = new Promise((resolve) => {\n",
              "      const reader = new FileReader();\n",
              "      reader.onload = (e) => {\n",
              "        resolve(e.target.result);\n",
              "      };\n",
              "      reader.readAsArrayBuffer(file);\n",
              "    });\n",
              "    // Wait for the data to be ready.\n",
              "    let fileData = yield {\n",
              "      promise: fileDataPromise,\n",
              "      response: {\n",
              "        action: 'continue',\n",
              "      }\n",
              "    };\n",
              "\n",
              "    // Use a chunked sending to avoid message size limits. See b/62115660.\n",
              "    let position = 0;\n",
              "    do {\n",
              "      const length = Math.min(fileData.byteLength - position, MAX_PAYLOAD_SIZE);\n",
              "      const chunk = new Uint8Array(fileData, position, length);\n",
              "      position += length;\n",
              "\n",
              "      const base64 = btoa(String.fromCharCode.apply(null, chunk));\n",
              "      yield {\n",
              "        response: {\n",
              "          action: 'append',\n",
              "          file: file.name,\n",
              "          data: base64,\n",
              "        },\n",
              "      };\n",
              "\n",
              "      let percentDone = fileData.byteLength === 0 ?\n",
              "          100 :\n",
              "          Math.round((position / fileData.byteLength) * 100);\n",
              "      percent.textContent = `${percentDone}% done`;\n",
              "\n",
              "    } while (position < fileData.byteLength);\n",
              "  }\n",
              "\n",
              "  // All done.\n",
              "  yield {\n",
              "    response: {\n",
              "      action: 'complete',\n",
              "    }\n",
              "  };\n",
              "}\n",
              "\n",
              "scope.google = scope.google || {};\n",
              "scope.google.colab = scope.google.colab || {};\n",
              "scope.google.colab._files = {\n",
              "  _uploadFiles,\n",
              "  _uploadFilesContinue,\n",
              "};\n",
              "})(self);\n",
              "</script> "
            ]
          },
          "metadata": {}
        },
        {
          "output_type": "stream",
          "name": "stdout",
          "text": [
            "Saving hap.jpg to hap.jpg\n"
          ]
        }
      ]
    },
    {
      "cell_type": "code",
      "source": [
        "from tensorflow.keras.preprocessing import image\n",
        "import numpy as np\n",
        "\n",
        "# Предположим, ваше изображение называется 'my_image.jpg'\n",
        "img_path = 'hap.jpg'\n",
        "\n",
        "# Загружаем изображение и изменяем его размер до 150x150\n",
        "img = image.load_img(img_path, target_size=(150, 150))\n",
        "\n",
        "# Преобразуем изображение в массив numpy\n",
        "img_array = image.img_to_array(img)\n",
        "\n",
        "# Добавляем измерение для батча, так как модель ожидает на входе 4D тензор (batch_size, height, width, channels)\n",
        "img_array = np.expand_dims(img_array, axis=0)\n",
        "\n",
        "# Нормализуем изображение\n",
        "img_array /= 255.0"
      ],
      "metadata": {
        "id": "Sia01Y5q08zd"
      },
      "execution_count": 45,
      "outputs": []
    },
    {
      "cell_type": "code",
      "source": [
        "prediction = model.predict(img_array)\n",
        "\n",
        "# Интерпретация результата\n",
        "if prediction[0] > 0.5:\n",
        "    print(\"Веселый человек\")\n",
        "else:\n",
        "    print(\"Грустный человек\")"
      ],
      "metadata": {
        "colab": {
          "base_uri": "https://localhost:8080/"
        },
        "id": "EoZwAMlQ1Bua",
        "outputId": "9486d909-35c7-41ba-bd46-8d768894ec08"
      },
      "execution_count": 52,
      "outputs": [
        {
          "output_type": "stream",
          "name": "stdout",
          "text": [
            "\u001b[1m1/1\u001b[0m \u001b[32m━━━━━━━━━━━━━━━━━━━━\u001b[0m\u001b[37m\u001b[0m \u001b[1m0s\u001b[0m 104ms/step\n",
            "Веселый человек\n"
          ]
        }
      ]
    }
  ]
}